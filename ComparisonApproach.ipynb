{
 "cells": [
  {
   "cell_type": "markdown",
   "metadata": {},
   "source": [
    "# **Comparison of all the approaches**\n",
    "\n",
    "\n",
    "In this file, we compare all the approaches\n",
    "\n",
    "---\n",
    "\n",
    "## DOcplex Python API installation\n",
    "\n",
    "First, we install the docplex python API which we will use for modelling our problem and solving it. (Then, we will not have problem size error)"
   ]
  },
  {
   "cell_type": "code",
   "execution_count": 91,
   "metadata": {},
   "outputs": [
    {
     "name": "stdout",
     "output_type": "stream",
     "text": [
      "End of the intallation of python API...\n"
     ]
    }
   ],
   "source": [
    "import sys\n",
    "try:\n",
    "    import docplex.mp\n",
    "except:\n",
    "    if hasattr(sys, 'real_prefix'):\n",
    "        !pip install docplex -q\n",
    "        print(\"!pip install docplex -q...\")\n",
    "    else:\n",
    "        !pip install --user docplex -q\n",
    "        print(\"!pip install --user docplex -q...\")\n",
    "        \n",
    "print(\"End of the intallation of python API...\")"
   ]
  },
  {
   "cell_type": "markdown",
   "metadata": {},
   "source": [
    "\n",
    "---\n",
    "\n",
    "## Main code"
   ]
  },
  {
   "cell_type": "code",
   "execution_count": 92,
   "metadata": {},
   "outputs": [],
   "source": [
    "#############################\n",
    "### Import libraries ###\n",
    "#############################\n",
    "\n",
    "from docplex.cp.model import *\n",
    "from docplex.cp.config import get_default\n",
    "\n",
    "from sklearn import tree\n",
    "from matplotlib import pyplot as plt\n",
    "from Solver import *\n",
    "from User import *\n",
    "import time"
   ]
  },
  {
   "cell_type": "code",
   "execution_count": 93,
   "metadata": {},
   "outputs": [],
   "source": [
    "#############################\n",
    "### Essentials functions ###\n",
    "#############################\n",
    "import FunctionMain as fm\n",
    "import clustering as cl\n",
    "import my_clustering as my_cl\n",
    "import decision_tree as dt\n",
    "import numpy as np"
   ]
  },
  {
   "cell_type": "code",
   "execution_count": 94,
   "metadata": {},
   "outputs": [
    {
     "name": "stdout",
     "output_type": "stream",
     "text": [
      "\n",
      "--------Main program is loading...---------\n"
     ]
    }
   ],
   "source": [
    "# ----------------- Parameters\n",
    "\n",
    "# The file to consider\n",
    "file = './file_with_optimal_val/la04.txt'\n",
    "\n",
    "# The number of solutions that we will have in the solver during the first iteration\n",
    "k = 20\n",
    "\n",
    "# The number of layer which is fixed\n",
    "nb_layers = 5\n",
    "\n",
    "# Variable which display the solution\n",
    "display_sol = False\n",
    "\n",
    "# Variable which display the start (in a vector)\n",
    "display_start = False\n",
    "\n",
    "# Variable which display the start (in a matrix)\n",
    "display_matrix = False\n",
    "\n",
    "# Time stop criterion \n",
    "tps_max = 100\n",
    "\n",
    "# Number of iteration stop criterion\n",
    "it_max = 10\n",
    "\n",
    "\n",
    "\n",
    "\n",
    "# The number of solutions that we will have in the solver after the first iteration\n",
    "k_k = 15\n",
    "\n",
    "list_search_type = [\"DepthFirst\", \"Restart\", \"MultiPoint\", \"IterativeDiving\"]\n",
    "#############################\n",
    "### Main program ###\n",
    "#############################\n",
    "\n",
    "print(\"\\n--------Main program is loading...---------\")\n",
    "\n",
    "# --------- Interaction with the solver\n",
    "data = []\n",
    "n, m, data, T_machine, T_duration, duration, optimalval = fm.get_data_from_file(file)"
   ]
  },
  {
   "cell_type": "markdown",
   "metadata": {},
   "source": [
    "----\n",
    "\n",
    "### Approach with clustering"
   ]
  },
  {
   "cell_type": "code",
   "execution_count": 95,
   "metadata": {},
   "outputs": [
    {
     "name": "stdout",
     "output_type": "stream",
     "text": [
      "\n",
      "Creating the model variables...\n",
      "Model tasks_by_jobs created !\n",
      "\n",
      "Solver initialized !\n",
      "\n",
      "Adding precedence constraints to the solver...\n",
      "Precedence constraints added !\n",
      "\n",
      "Adding disjunctive constraints to the solver...\n",
      "Disjunctive constraints added !\n",
      "\n",
      "Solving the model...\n",
      "Model solved !\n",
      "\n",
      "--------Interaction with the user...---------\n",
      "\n",
      "Creating the user...\n",
      "User created !\n",
      "\n",
      "Classing solutions...\n",
      "Le min de list_obj est 3889\n",
      "Le max de list_obj est 5593\n",
      "Solutions classed !\n",
      "\n",
      "Creating preferences...\n",
      "Preferences created !\n",
      "\n",
      "Testing order of preferences...\n",
      "\tL'ordre des préférences n'est pas cohérente\n",
      "\n",
      "Testing differences between solutions...\n",
      "\tToutes les solutions sont différentes\n",
      "list layers :  [[<docplex.cp.solution.CpoSolveResult object at 0x000002144BC23BC0>, <docplex.cp.solution.CpoSolveResult object at 0x00000214480E2F40>, <docplex.cp.solution.CpoSolveResult object at 0x000002146177B5C0>, <docplex.cp.solution.CpoSolveResult object at 0x000002144DE5B940>], [<docplex.cp.solution.CpoSolveResult object at 0x000002145AF912C0>, <docplex.cp.solution.CpoSolveResult object at 0x000002144F889240>, <docplex.cp.solution.CpoSolveResult object at 0x0000021446E0D440>, <docplex.cp.solution.CpoSolveResult object at 0x00000214574ADC40>, <docplex.cp.solution.CpoSolveResult object at 0x0000021447906840>], [<docplex.cp.solution.CpoSolveResult object at 0x0000021446E7CF40>], [<docplex.cp.solution.CpoSolveResult object at 0x0000021458FD4D40>, <docplex.cp.solution.CpoSolveResult object at 0x000002145AFFDD40>, <docplex.cp.solution.CpoSolveResult object at 0x00000214574AD640>, <docplex.cp.solution.CpoSolveResult object at 0x00000214591D4440>], [<docplex.cp.solution.CpoSolveResult object at 0x000002145201FAC0>]]\n"
     ]
    }
   ],
   "source": [
    "\n",
    "# --------- Call Solver constructor in Solver.py and create the variables of the model\n",
    "model, solver, starts = fm.initialize_solver(data, n, m, duration)\n",
    "\n",
    "model, variables = solver.create_constraints(model, n, m, optimalval, T_machine)\n",
    "\n",
    "# ------------ Solve the model\n",
    "print(\"\\nSolving the model...\")\n",
    "msol, nb_solution, runtime = solver.solve(model, k_k, n, m, variables)\n",
    "\n",
    "\n",
    "# ------------ Display the result\n",
    "fm.display_solution(msol, display_sol)\n",
    "print(\"Model solved !\")\n",
    "\n",
    "# ---------------- Interaction with the user\n",
    "print(\"\\n--------Interaction with the user...---------\")\n",
    "print(\"\\nCreating the user...\")\n",
    "user = User()\n",
    "print(\"User created !\")\n",
    "\n",
    "#Get the variables of the model\n",
    "variables = solver.get_variables()\n",
    "\n",
    "list_indice, list_obj, pref, list_layers, list_equal = fm.user_preferences(msol, user, nb_layers, n, m)\n",
    "\n",
    "# Vector of the start time of each task of each preference\n",
    "starts = user.start_pref(n, m, display_start)\n",
    "\n",
    "# Matrix of the start time of each task of each preference\n",
    "matrix = user.matrix_pref(n, m, display_matrix)\n",
    "\n",
    "# Testing the order of preferences and the differences between solutions\n",
    "fm.test(n, m, user)\n",
    "\n",
    "print(\"list layers : \",list_layers)\n"
   ]
  },
  {
   "cell_type": "code",
   "execution_count": 96,
   "metadata": {},
   "outputs": [
    {
     "name": "stdout",
     "output_type": "stream",
     "text": [
      "\n",
      "--------Iteration 1---------\n",
      "\n",
      "Creating the model variables...\n",
      "Model tasks_by_jobs created !\n",
      "\n",
      "Solver initialized !\n",
      "\n",
      "Adding precedence constraints to the solver...\n",
      "Precedence constraints added !\n",
      "\n",
      "Adding disjunctive constraints to the solver...\n",
      "Disjunctive constraints added !\n",
      "\n",
      "Solving the model...\n",
      "The number of solutions generated is : 6271\n",
      "Objective function : [3889, 4020]\n",
      "Model solved !\n",
      "\n",
      "Classing solutions...\n",
      "Le min de list_obj est 3889\n",
      "Le max de list_obj est 5593\n",
      "Solutions classed !\n",
      "\n",
      "Creating preferences...\n",
      "Preferences created !\n",
      "Il y a 30 solution(s)\n",
      "Objective function global : [3889, 3889]\n",
      "\n",
      "Testing order of preferences...\n",
      "\tL'ordre des préférences n'est pas cohérente\n",
      "\n",
      "Testing differences between solutions...\n",
      "\tToutes les solutions sont différentes\n",
      "\n",
      "--------Iteration 2---------\n",
      "\n",
      "Creating the model variables...\n",
      "Model tasks_by_jobs created !\n",
      "\n",
      "Solver initialized !\n",
      "\n",
      "Adding precedence constraints to the solver...\n",
      "Precedence constraints added !\n",
      "\n",
      "Adding disjunctive constraints to the solver...\n",
      "Disjunctive constraints added !\n",
      "\n",
      "Solving the model...\n",
      "The number of solutions generated is : 5354\n",
      "Objective function : [3889, 4020, 4259]\n",
      "Model solved !\n",
      "\n",
      "Classing solutions...\n",
      "Le min de list_obj est 3889\n",
      "Le max de list_obj est 5593\n",
      "Solutions classed !\n",
      "\n",
      "Creating preferences...\n",
      "Preferences created !\n",
      "Il y a 45 solution(s)\n",
      "Objective function global : [3889, 3889, 3889]\n",
      "\n",
      "Testing order of preferences...\n",
      "\tL'ordre des préférences n'est pas cohérente\n",
      "\n",
      "Testing differences between solutions...\n",
      "\tToutes les solutions sont différentes\n",
      "The user has reached the maximum number of iterations !\n"
     ]
    }
   ],
   "source": [
    "####################################################################\n",
    "#### Exploration: RECHERCHE DE NOUVELLES SOLUTIONS \n",
    "####################################################################\n",
    "\n",
    "import clustering as cl\n",
    "\n",
    "###  -------------- Iteration of the solver with the preferences\n",
    "it = 1\n",
    "tps = runtime\n",
    "list_min_obj_clustering = [min(list_obj)]\n",
    "list_min_obj_global_clustering = [min(list_obj)]\n",
    "it_max_exploration = 0.75*it_max\n",
    "tps_max_exploration = 0.75*tps_max\n",
    "criterion = (tps < tps_max_exploration) and (it < it_max_exploration) \n",
    "\n",
    "# ----------------- Add the preferences to the model\n",
    "while criterion :\n",
    "    print(\"\\n--------Iteration {}---------\".format(it))\n",
    "    it += 1\n",
    "\n",
    "    # --------- Call Solver constructor in Solver.py and create the variables of the model\n",
    "    model, solver, starts = fm.initialize_solver(data, n, m, duration)\n",
    "\n",
    "    # --------- Add the new constraints to the model (that solution must be different from the previous generated solutions)\n",
    "    variables = fm.update_variables_new_constraint(n, m,  pref, model, solver)\n",
    "    \n",
    "    # # --------- Add the constraints considering the clustering\n",
    "    \n",
    "    list_rayon_layers, list_start_sol_layers, dict_sol_rayon  = my_cl.list_rayon_binaire_cluster(n, m, list_layers)\n",
    "    list_rayon_layers_flatten = [item for sublist in list_rayon_layers[1:] for item in sublist]\n",
    "    list_start_sol_layers_flatten = [item for sublist in list_start_sol_layers[1:] for item in sublist]\n",
    "         \n",
    "    for l in range(len(list_rayon_layers_flatten)):\n",
    "        solver.add_constraint(model, my_cl.manhattan_binaire_distance_contrainte(list_start_sol_layers_flatten[l], [model.start_of(variables[i//m][i%m]) for i in range(n*m)]) > list_rayon_layers_flatten[l])\n",
    "               \n",
    "            \n",
    "    # --------- Add the constraints considering the clustering\n",
    "    model, variables = solver.create_constraints(model, n, m, optimalval, T_machine)\n",
    "\n",
    "    # ------------ Solve the model\n",
    "    print(\"\\nSolving the model...\")\n",
    "    msol, nb_solution, runtime = solver.solve(model, k_k, n, m, variables)\n",
    "\n",
    "    print(\"The number of solutions generated is :\",nb_solution)\n",
    "    list = []\n",
    "    for sol in msol:\n",
    "        list.append(user.objectiveFunction(sol) + user.objectiveFunctionRegularity(sol, n, m))\n",
    "\n",
    "    list_min_obj_clustering.append(min(list))\n",
    "    print(\"Objective function :\", list_min_obj_clustering)\n",
    "\n",
    "    # ------------ Display the result\n",
    "    fm.display_solution(msol, display_sol)\n",
    "    print(\"Model solved !\")\n",
    "\n",
    "    # ---------------- Interaction with the user\n",
    "    list_indice, list_obj, pref, list_layers, list_equal = fm.user_preferences(msol, user, nb_layers, n, m)\n",
    "    print(\"Il y a {} solution(s)\".format(len(pref)))\n",
    "\n",
    "    list_min_obj_global_clustering.append(min(list_obj))\n",
    "    print(\"Objective function global :\", list_min_obj_global_clustering)\n",
    "\n",
    "    # Vector of the start time of each task of each preference\n",
    "    starts = user.start_pref(n, m, display_start)\n",
    "\n",
    "    # Matrix of the start time of each task of each preference\n",
    "    matrix = user.matrix_pref(n, m, display_matrix)\n",
    "\n",
    "    # Testing the order of preferences and the differences between solutions\n",
    "    fm.test(n, m, user)\n",
    "\n",
    "#------------------ Condition d'arrêt ------------------\n",
    "    tps += runtime\n",
    "    criterion = (tps < tps_max_exploration) and (it < it_max_exploration) \n",
    "    fm.stopCondition(it, it_max_exploration, tps, tps_max_exploration)"
   ]
  },
  {
   "cell_type": "code",
   "execution_count": 97,
   "metadata": {},
   "outputs": [
    {
     "name": "stdout",
     "output_type": "stream",
     "text": [
      "[3889, 4020, 4259]\n"
     ]
    },
    {
     "data": {
      "image/png": "[encoded data removed]",
      "text/plain": [
       "<Figure size 432x288 with 1 Axes>"
      ]
     },
     "metadata": {
      "needs_background": "light"
     },
     "output_type": "display_data"
    }
   ],
   "source": [
    "# Plot du minimum de l'objectif parmis les nouvelles solutions générées\n",
    "\n",
    "import matplotlib.pyplot as plt\n",
    "print(list_min_obj_clustering)\n",
    "plt.plot([i for i in range(it)], list_min_obj_clustering, label='min obj', marker='o')\n",
    "plt.xlabel(\"Iteration\")\n",
    "plt.ylabel(\"makespan\")\n",
    "plt.title(\"Evolution of the makespan for generate solutions\")\n",
    "plt.xticks(range(it))\n",
    "plt.legend()\n",
    "plt.show() "
   ]
  },
  {
   "cell_type": "code",
   "execution_count": 98,
   "metadata": {},
   "outputs": [
    {
     "name": "stdout",
     "output_type": "stream",
     "text": [
      "[3889, 3889, 3889]\n"
     ]
    },
    {
     "data": {
      "image/png": "[encoded data removed]",
      "text/plain": [
       "<Figure size 432x288 with 1 Axes>"
      ]
     },
     "metadata": {
      "needs_background": "light"
     },
     "output_type": "display_data"
    }
   ],
   "source": [
    "# Plot du minimum de l'objectif parmis les solutions générées so far\n",
    "\n",
    "print(list_min_obj_global_clustering)\n",
    "plt.plot([i for i in range(it)], list_min_obj_global_clustering, label='min obj', marker='o')\n",
    "plt.xlabel(\"Iteration\")\n",
    "plt.ylabel(\"makespan\")\n",
    "plt.title(\"Evolution of the best makespan so far\")\n",
    "plt.xticks(range(it))\n",
    "plt.legend()\n",
    "plt.show() "
   ]
  },
  {
   "cell_type": "code",
   "execution_count": 99,
   "metadata": {},
   "outputs": [
    {
     "name": "stdout",
     "output_type": "stream",
     "text": [
      "\n",
      "--------Iteration 3---------\n",
      "\n",
      "Creating the model variables...\n",
      "Model tasks_by_jobs created !\n",
      "\n",
      "Solver initialized !\n",
      "\n",
      "Solving the model...\n",
      "\n",
      "Adding precedence constraints to the solver...\n",
      "Precedence constraints added !\n",
      "\n",
      "Adding disjunctive constraints to the solver...\n",
      "Disjunctive constraints added !\n",
      "The number of solutions generated is : 17\n",
      "Objective function : [3889, 4020, 4259, 3860]\n",
      "Model solved !\n",
      "\n",
      "Classing solutions...\n",
      "Le min de list_obj est 3860\n",
      "Le max de list_obj est 5641\n",
      "Solutions classed !\n",
      "\n",
      "Creating preferences...\n",
      "Preferences created !\n",
      "Il y a 60 solution(s)\n",
      "Objective function global : [3889, 3889, 3889, 3860]\n",
      "\n",
      "Testing order of preferences...\n",
      "\tL'ordre des préférences n'est pas cohérente\n",
      "\n",
      "Testing differences between solutions...\n",
      "\tToutes les solutions sont différentes\n",
      "The user has reached the maximum number of iterations !\n"
     ]
    }
   ],
   "source": [
    "####################################################################\n",
    "#### Exploitation: RECHERCHE DE NOUVELLES SOLUTIONS \n",
    "####################################################################\n",
    "\n",
    "import clustering as cl\n",
    "\n",
    "###  -------------- Iteration of the solver with the preferences\n",
    "k_k = 15\n",
    "\n",
    "# criterion = (tps < tps_max) and (it < it_max) \n",
    "criterion = (it < it_max) \n",
    "\n",
    "# ----------------- Add the preferences to the model\n",
    "while criterion :\n",
    "    print(\"\\n--------Iteration {}---------\".format(it))\n",
    "    it += 1\n",
    "\n",
    "    # --------- Call Solver constructor in Solver.py and create the variables of the model\n",
    "    model, solver, starts = fm.initialize_solver(data, n, m, duration)\n",
    "\n",
    "    # --------- Add the new constraints to the model (that solution must be different from the previous generated solutions)\n",
    "    variables = fm.update_variables_new_constraint(n, m,  pref, model, solver)\n",
    "    \n",
    "    # # --------- Add the constraints considering the clustering\n",
    "    \n",
    "    list_rayon_layers, list_start_sol_layers, dict_sol_rayon  = my_cl.list_rayon_binaire_cluster(n, m, list_layers)\n",
    "    \n",
    "    list_cluster_layers = my_cl.my_clustering_binaire(n, m, list_rayon_layers, list_layers)\n",
    "\n",
    "    list_centroides_layers = my_cl.centroides_clusters(n, m, list_cluster_layers)\n",
    "\n",
    "    sum = 0\n",
    "    for i in range(len(list_centroides_layers)): #On parcourt les layers\n",
    "        sum_temp = 0\n",
    "        for j in range(len(list_centroides_layers[i])): #On parcourt les clusters\n",
    "            sum_temp += my_cl.manhattan_binaire_distance_contrainte(list_centroides_layers[i][j], [model.start_of(variables[i//m][i%m]) for i in range(n*m)])\n",
    "        sum_temp *= len(list_centroides_layers)-i \n",
    "    sum += sum_temp\n",
    "    model.add(minimize(sum))\n",
    "\n",
    "   \n",
    "\n",
    "    # ------------ Solve the model\n",
    "    print(\"\\nSolving the model...\")\n",
    "    \n",
    "    model, variables = solver.create_constraints(model, n, m, optimalval, T_machine)\n",
    "    msol, nb_solution, runtime = solver.solve(model, k_k, n, m, variables)\n",
    "\n",
    "    print(\"The number of solutions generated is :\",nb_solution)\n",
    "    list = []\n",
    "    for sol in msol:\n",
    "        list.append(user.objectiveFunction(sol)+user.objectiveFunctionRegularity(sol, n, m))\n",
    "\n",
    "    list_min_obj_clustering.append(min(list))\n",
    "    print(\"Objective function :\", list_min_obj_clustering)\n",
    "\n",
    "    # ------------ Display the result\n",
    "    fm.display_solution(msol, display_sol)\n",
    "    print(\"Model solved !\")\n",
    "\n",
    "    # ---------------- Interaction with the user\n",
    "    list_indice, list_obj, pref, list_layers, list_equal = fm.user_preferences(msol, user, nb_layers, n, m)\n",
    "    print(\"Il y a {} solution(s)\".format(len(pref)))\n",
    "\n",
    "    list_min_obj_global_clustering.append(min(list_obj))\n",
    "    print(\"Objective function global :\", list_min_obj_global_clustering)\n",
    "\n",
    "    # Vector of the start time of each task of each preference\n",
    "    starts = user.start_pref(n, m, display_start)\n",
    "\n",
    "    # Matrix of the start time of each task of each preference\n",
    "    matrix = user.matrix_pref(n, m, display_matrix)\n",
    "\n",
    "    # Testing the order of preferences and the differences between solutions\n",
    "    fm.test(n, m, user)\n",
    "\n",
    "#------------------ Condition d'arrêt ------------------\n",
    "    tps += runtime\n",
    "    # criterion = (tps < tps_max) and (it < it_max) \n",
    "    criterion = (it < it_max) \n",
    "\n",
    "    fm.stopCondition(it, it_max, tps, tps_max)\n"
   ]
  },
  {
   "cell_type": "code",
   "execution_count": 100,
   "metadata": {},
   "outputs": [
    {
     "name": "stdout",
     "output_type": "stream",
     "text": [
      "[3889, 4020, 4259, 3860]\n"
     ]
    },
    {
     "data": {
      "image/png": "[encoded data removed]",
      "text/plain": [
       "<Figure size 432x288 with 1 Axes>"
      ]
     },
     "metadata": {
      "needs_background": "light"
     },
     "output_type": "display_data"
    }
   ],
   "source": [
    "# Plot du minimum de l'objectif parmis les nouvelles solutions générées\n",
    "\n",
    "print(list_min_obj_clustering)\n",
    "plt.plot([i for i in range(it)], list_min_obj_clustering, label='min obj', marker='o')\n",
    "plt.xlabel(\"Iteration\")\n",
    "plt.ylabel(\"makespan\")\n",
    "plt.title(\"Evolution of the makespan for generate solutions\")\n",
    "plt.xticks(range(it))\n",
    "plt.legend()\n",
    "plt.show() "
   ]
  },
  {
   "cell_type": "code",
   "execution_count": 101,
   "metadata": {},
   "outputs": [
    {
     "name": "stdout",
     "output_type": "stream",
     "text": [
      "[3889, 3889, 3889, 3860]\n"
     ]
    },
    {
     "data": {
      "image/png": "[encoded data removed]",
      "text/plain": [
       "<Figure size 432x288 with 1 Axes>"
      ]
     },
     "metadata": {
      "needs_background": "light"
     },
     "output_type": "display_data"
    }
   ],
   "source": [
    "# Plot du minimum de l'objectif parmis les solutions générées so far\n",
    "\n",
    "print(list_min_obj_global_clustering)\n",
    "plt.plot([i for i in range(it)], list_min_obj_global_clustering, label='min obj', marker='o')\n",
    "plt.xlabel(\"Iteration\")\n",
    "plt.ylabel(\"makespan\")\n",
    "plt.title(\"Evolution of the best makespan so far\")\n",
    "plt.xticks(range(it))\n",
    "plt.legend()\n",
    "plt.show() "
   ]
  },
  {
   "cell_type": "markdown",
   "metadata": {},
   "source": [
    "-----\n",
    "\n",
    "### Approach with binary decision tree"
   ]
  },
  {
   "cell_type": "code",
   "execution_count": 102,
   "metadata": {},
   "outputs": [
    {
     "name": "stdout",
     "output_type": "stream",
     "text": [
      "\n",
      "--------Main program is loading...---------\n",
      "\n",
      "Creating the model variables...\n",
      "Model tasks_by_jobs created !\n",
      "\n",
      "Solver initialized !\n",
      "\n",
      "Adding precedence constraints to the solver...\n",
      "Precedence constraints added !\n",
      "\n",
      "Adding disjunctive constraints to the solver...\n",
      "Disjunctive constraints added !\n",
      "\n",
      "Solving the model...\n",
      "Model solved !\n",
      "\n",
      "--------Interaction with the user...---------\n",
      "\n",
      "Creating the user...\n",
      "User created !\n",
      "\n",
      "Classing solutions...\n",
      "Le min de list_obj est 3872\n",
      "Le max de list_obj est 5340\n",
      "Solutions classed !\n",
      "\n",
      "Creating preferences...\n",
      "Preferences created !\n",
      "\n",
      "Testing order of preferences...\n",
      "\tL'ordre des préférences n'est pas cohérente\n",
      "\n",
      "Testing differences between solutions...\n",
      "\tToutes les solutions sont différentes\n",
      "list layers :  [[<docplex.cp.solution.CpoSolveResult object at 0x000002144F2D7B40>, <docplex.cp.solution.CpoSolveResult object at 0x0000021446E7C2C0>, <docplex.cp.solution.CpoSolveResult object at 0x00000214552DC3C0>, <docplex.cp.solution.CpoSolveResult object at 0x00000214480F84C0>], [<docplex.cp.solution.CpoSolveResult object at 0x0000021446E7CEC0>, <docplex.cp.solution.CpoSolveResult object at 0x0000021458936440>, <docplex.cp.solution.CpoSolveResult object at 0x000002144AFD70C0>, <docplex.cp.solution.CpoSolveResult object at 0x00000214453933C0>], [<docplex.cp.solution.CpoSolveResult object at 0x000002144DCCD9C0>, <docplex.cp.solution.CpoSolveResult object at 0x000002144A19A840>], [<docplex.cp.solution.CpoSolveResult object at 0x0000021450942F40>, <docplex.cp.solution.CpoSolveResult object at 0x000002145555EA40>, <docplex.cp.solution.CpoSolveResult object at 0x000002144C253F40>, <docplex.cp.solution.CpoSolveResult object at 0x000002144A88CB40>], [<docplex.cp.solution.CpoSolveResult object at 0x000002144DF6C9C0>]]\n"
     ]
    }
   ],
   "source": [
    "# ----------------- Parameters\n",
    "\n",
    "# The file to consider\n",
    "file = './file_with_optimal_val/la04.txt'\n",
    "\n",
    "# The number of solutions that we will have in the solver during the first iteration\n",
    "k = 20\n",
    "\n",
    "# The number of layer which is fixed\n",
    "nb_layers = 5\n",
    "\n",
    "# Variable which display the solution\n",
    "display_sol = False\n",
    "\n",
    "# Variable which display the start (in a vector)\n",
    "display_start = False\n",
    "\n",
    "# Variable which display the start (in a matrix)\n",
    "display_matrix = False\n",
    "\n",
    "# Time stop criterion \n",
    "tps_max = 100\n",
    "\n",
    "# Number of iteration stop criterion\n",
    "it_max = 10\n",
    "\n",
    "\n",
    "\n",
    "\n",
    "# The number of solutions that we will have in the solver after the first iteration\n",
    "k_k = 15\n",
    "\n",
    "list_search_type = [\"DepthFirst\", \"Restart\", \"MultiPoint\", \"IterativeDiving\"]\n",
    "#############################\n",
    "### Main program ###\n",
    "#############################\n",
    "\n",
    "#############################\n",
    "### Main program ###\n",
    "#############################\n",
    "\n",
    "print(\"\\n--------Main program is loading...---------\")\n",
    "\n",
    "# --------- Interaction with the solver\n",
    "data = []\n",
    "n, m, data, T_machine, T_duration, duration, optimalval = fm.get_data_from_file(file)\n",
    "\n",
    "# --------- Call Solver constructor in Solver.py and create the variables of the model\n",
    "model, solver, starts = fm.initialize_solver(data, n, m, duration)\n",
    "\n",
    "model, variables = solver.create_constraints(model, n, m, optimalval, T_machine)\n",
    "\n",
    "# ------------ Solve the model\n",
    "print(\"\\nSolving the model...\")\n",
    "msol, nb_solution, runtime = solver.solve(model, k_k, n, m, variables)\n",
    "\n",
    "# ------------ Display the result\n",
    "fm.display_solution(msol, display_sol)\n",
    "print(\"Model solved !\")\n",
    "\n",
    "# ---------------- Interaction with the user\n",
    "print(\"\\n--------Interaction with the user...---------\")\n",
    "print(\"\\nCreating the user...\")\n",
    "user = User()\n",
    "print(\"User created !\")\n",
    "\n",
    "#Get the variables of the model\n",
    "variables = solver.get_variables()\n",
    "\n",
    "list_indice, list_obj, pref, list_layers, list_equal = fm.user_preferences(msol, user, nb_layers, n, m)\n",
    "\n",
    "# Vector of the start time of each task of each preference\n",
    "starts = user.start_pref(n, m, display_start)\n",
    "\n",
    "# Matrix of the start time of each task of each preference\n",
    "matrix = user.matrix_pref(n, m, display_matrix)\n",
    "\n",
    "# Testing the order of preferences and the differences between solutions\n",
    "fm.test(n, m, user)\n",
    "\n",
    "print(\"list layers : \",list_layers)\n"
   ]
  },
  {
   "cell_type": "code",
   "execution_count": 103,
   "metadata": {},
   "outputs": [
    {
     "name": "stdout",
     "output_type": "stream",
     "text": [
      "\n",
      "--------Iteration 1---------\n",
      "\n",
      "Creating the model variables...\n",
      "Model tasks_by_jobs created !\n",
      "\n",
      "Solver initialized !\n",
      "['16 <= 564.8365885903298', 1]\n",
      "<class 'list'>\n",
      "['16 > 564.8365885903298', '18 <= 614.1616311739951', 0]\n",
      "<class 'list'>\n",
      "['16 > 564.8365885903298', '18 > 614.1616311739951', 0]\n",
      "<class 'list'>\n",
      "\n",
      "Solving the model...\n",
      "\n",
      "Adding precedence constraints to the solver...\n",
      "Precedence constraints added !\n",
      "\n",
      "Adding disjunctive constraints to the solver...\n",
      "Disjunctive constraints added !\n",
      "The number of solutions generated is : 6790\n",
      "Objective function : [3872, 3552]\n",
      "Model solved !\n",
      "\n",
      "Classing solutions...\n",
      "Le min de list_obj est 3552\n",
      "Le max de list_obj est 5340\n",
      "Solutions classed !\n",
      "\n",
      "Creating preferences...\n",
      "Preferences created !\n",
      "Il y a 30 solution(s)\n",
      "Objective function global : [3872, 3552]\n",
      "\n",
      "Testing order of preferences...\n",
      "\tL'ordre des préférences n'est pas cohérente\n",
      "\n",
      "Testing differences between solutions...\n",
      "\tToutes les solutions sont différentes\n",
      "\n",
      "--------Iteration 2---------\n",
      "\n",
      "Creating the model variables...\n",
      "Model tasks_by_jobs created !\n",
      "\n",
      "Solver initialized !\n",
      "['16 <= 604.4937228432361', '22 <= 664.7437258408142', 1]\n",
      "<class 'list'>\n",
      "['16 <= 604.4937228432361', '22 > 664.7437258408142', 0]\n",
      "<class 'list'>\n",
      "['16 > 604.4937228432361', 0]\n",
      "<class 'list'>\n",
      "\n",
      "Solving the model...\n",
      "\n",
      "Adding precedence constraints to the solver...\n",
      "Precedence constraints added !\n",
      "\n",
      "Adding disjunctive constraints to the solver...\n",
      "Disjunctive constraints added !\n",
      "The number of solutions generated is : 6100\n",
      "Objective function : [3872, 3552, 4084]\n",
      "Model solved !\n",
      "\n",
      "Classing solutions...\n",
      "Le min de list_obj est 3552\n",
      "Le max de list_obj est 5594\n",
      "Solutions classed !\n",
      "\n",
      "Creating preferences...\n",
      "Preferences created !\n",
      "Il y a 45 solution(s)\n",
      "Objective function global : [3872, 3552, 3552]\n",
      "\n",
      "Testing order of preferences...\n",
      "\tL'ordre des préférences n'est pas cohérente\n",
      "\n",
      "Testing differences between solutions...\n",
      "\tToutes les solutions sont différentes\n",
      "\n",
      "--------Iteration 3---------\n",
      "\n",
      "Creating the model variables...\n",
      "Model tasks_by_jobs created !\n",
      "\n",
      "Solver initialized !\n",
      "['46 <= 425.8505944539097', '16 <= 551.0438815383445', '33 <= 426.2540918273172', 0]\n",
      "<class 'list'>\n",
      "['46 <= 425.8505944539097', '16 <= 551.0438815383445', '33 > 426.2540918273172', 1]\n",
      "<class 'list'>\n",
      "['46 <= 425.8505944539097', '16 > 551.0438815383445', '14 <= 440.56275964927056', 1]\n",
      "<class 'list'>\n",
      "['46 <= 425.8505944539097', '16 > 551.0438815383445', '14 > 440.56275964927056', 0]\n",
      "<class 'list'>\n",
      "['46 > 425.8505944539097', '29 <= 371.09188137673397', 0]\n",
      "<class 'list'>\n",
      "['46 > 425.8505944539097', '29 > 371.09188137673397', 0]\n",
      "<class 'list'>\n",
      "\n",
      "Solving the model...\n",
      "\n",
      "Adding precedence constraints to the solver...\n",
      "Precedence constraints added !\n",
      "\n",
      "Adding disjunctive constraints to the solver...\n",
      "Disjunctive constraints added !\n",
      "The number of solutions generated is : 6248\n",
      "Objective function : [3872, 3552, 4084, 3442]\n",
      "Model solved !\n",
      "\n",
      "Classing solutions...\n",
      "Le min de list_obj est 3442\n",
      "Le max de list_obj est 5594\n",
      "Solutions classed !\n",
      "\n",
      "Creating preferences...\n",
      "Preferences created !\n",
      "Il y a 60 solution(s)\n",
      "Objective function global : [3872, 3552, 3552, 3442]\n",
      "\n",
      "Testing order of preferences...\n",
      "\tL'ordre des préférences n'est pas cohérente\n",
      "\n",
      "Testing differences between solutions...\n",
      "\tToutes les solutions sont différentes\n",
      "The user has reached the maximum number of iterations !\n"
     ]
    }
   ],
   "source": [
    "####################################################################\n",
    "#### Arbre de décision : RECHERCHE DE NOUVELLES SOLUTIONS \n",
    "####################################################################\n",
    "\n",
    "\n",
    "###  -------------- Iteration of the solver with the preferences\n",
    "it = 1\n",
    "tps = runtime\n",
    "list_min_obj_BDT = [min(list_obj)]\n",
    "list_min_obj_global_BDT = [min(list_obj)]\n",
    "# it_max_exploration = 0.75*it_max\n",
    "it_max_exploration = it_max\n",
    "tps_max_exploration = 0.75*tps_max\n",
    "# criterion = (tps < tps_max_exploration) and (it < it_max_exploration) \n",
    "criterion = (tps < tps_max_exploration) and (it < it_max_exploration) \n",
    "\n",
    "# ----------------- Add the preferences to the model\n",
    "while criterion :\n",
    "    \n",
    "    print(\"\\n--------Iteration {}---------\".format(it))\n",
    "    it += 1\n",
    "\n",
    "     # --------- Compute decision trees---------------\n",
    "    clf, feuilles_conditions = dt.my_decision_tree(n, m, list_layers)\n",
    "    # Implementation of the decision tree\n",
    "\n",
    "    # print(\"\\n--------Implementation of the decision tree...---------\")\n",
    "    # print(len(feuilles_conditions)) \n",
    "    # fig = plt.figure(figsize=(10,7))\n",
    "    # _ = tree.plot_tree(clf, \n",
    "    #                     class_names= (\"not best layer (0)\", \"best layer (1)\" ), \n",
    "    #                     filled=True)\n",
    "    \n",
    "    # --------- Call Solver constructor in Solver.py and create the variables of the model\n",
    "    model, solver, starts = fm.initialize_solver(data, n, m, duration)\n",
    "\n",
    "    # --------- Add the new constraints to the model (that solution must be different from the previous generated solutions)\n",
    "    variables = fm.update_variables_new_constraint(n, m,  pref, model, solver)\n",
    "    \n",
    "    \n",
    "      \n",
    "    #----------Add new variable \"order\" to the model---------------\n",
    "    order = model.binary_var(name=\"order\")\n",
    "    solver.add_variable(order)\n",
    "    \n",
    "   \n",
    "    # --------- Add the new constraints to the model (concerning the order)\n",
    "    list_variables = [model.start_of(variables[i//m][i%m]) for i in range(n*m)]\n",
    "    constraint_list_of_tree = dt.constraint_tree(order,list_variables, feuilles_conditions)\n",
    "\n",
    "    for constraint in constraint_list_of_tree:\n",
    "        solver.add_constraint(model, constraint)\n",
    "    solver.add_constraint(model, equal(order, 1))\n",
    "\n",
    "\n",
    "    # ------------ Solve the model\n",
    "    print(\"\\nSolving the model...\")\n",
    "    model, variables = solver.create_constraints(model, n, m, optimalval, T_machine)\n",
    "    msol, nb_solution, runtime = solver.solve(model, k_k, n, m, variables)\n",
    "\n",
    "    print(\"The number of solutions generated is :\",nb_solution)\n",
    "    list = []\n",
    "    for sol in msol:\n",
    "        list.append(user.objectiveFunction(sol) + user.objectiveFunctionRegularity(sol, n, m))\n",
    "\n",
    "    list_min_obj_BDT.append(min(list))\n",
    "    print(\"Objective function :\", list_min_obj_BDT)\n",
    "\n",
    "    # ------------ Display the result\n",
    "    fm.display_solution(msol, display_sol)\n",
    "    print(\"Model solved !\")\n",
    "\n",
    "    # ---------------- Interaction with the user\n",
    "    list_indice, list_obj, pref, list_layers, list_equal = fm.user_preferences(msol, user, nb_layers, n, m)\n",
    "    print(\"Il y a {} solution(s)\".format(len(pref)))\n",
    "\n",
    "    list_min_obj_global_BDT.append(min(list_obj))\n",
    "    print(\"Objective function global :\", list_min_obj_global_BDT)\n",
    "\n",
    "    # Vector of the start time of each task of each preference\n",
    "    starts = user.start_pref(n, m, display_start)\n",
    "\n",
    "    # Matrix of the start time of each task of each preference\n",
    "    matrix = user.matrix_pref(n, m, display_matrix)\n",
    "\n",
    "    # Testing the order of preferences and the differences between solutions\n",
    "    fm.test(n, m, user)\n",
    "\n",
    "#------------------ Condition d'arrêt ------------------\n",
    "    tps += runtime\n",
    "    # criterion = (tps < tps_max_exploration) and (it < it_max_exploration) \n",
    "    criterion = (it < it_max_exploration) \n",
    "\n",
    "    fm.stopCondition(it, it_max_exploration, tps, tps_max_exploration)"
   ]
  },
  {
   "cell_type": "code",
   "execution_count": 104,
   "metadata": {},
   "outputs": [
    {
     "name": "stdout",
     "output_type": "stream",
     "text": [
      "\n",
      "--------Implementation of the decision tree...---------\n",
      "6\n"
     ]
    },
    {
     "data": {
      "image/png": "[encoded data removed]",
      "text/plain": [
       "<Figure size 720x504 with 1 Axes>"
      ]
     },
     "metadata": {
      "needs_background": "light"
     },
     "output_type": "display_data"
    }
   ],
   "source": [
    "# Implementation of the decision tree\n",
    "\n",
    "print(\"\\n--------Implementation of the decision tree...---------\")\n",
    "print(len(feuilles_conditions)) \n",
    "fig = plt.figure(figsize=(10,7))\n",
    "_ = tree.plot_tree(clf, \n",
    "                    class_names= (\"false (0)\", \"true (1)\" ), \n",
    "                    filled=True)"
   ]
  },
  {
   "cell_type": "code",
   "execution_count": 105,
   "metadata": {},
   "outputs": [
    {
     "name": "stdout",
     "output_type": "stream",
     "text": [
      "[3872, 3552, 4084, 3442]\n"
     ]
    },
    {
     "data": {
      "image/png": "[encoded data removed]",
      "text/plain": [
       "<Figure size 432x288 with 1 Axes>"
      ]
     },
     "metadata": {
      "needs_background": "light"
     },
     "output_type": "display_data"
    }
   ],
   "source": [
    "# Plot du minimum de l'objectif parmis les nouvelles solutions générées\n",
    "\n",
    "print(list_min_obj_BDT)\n",
    "plt.plot([i for i in range(it)], list_min_obj_BDT, label='min obj', marker='o')\n",
    "plt.xlabel(\"Iteration\")\n",
    "plt.ylabel(\"makespan\")\n",
    "plt.title(\"Evolution of the makespan for generate solutions\")\n",
    "plt.xticks(range(it))\n",
    "plt.legend()\n",
    "plt.show() "
   ]
  },
  {
   "cell_type": "code",
   "execution_count": 106,
   "metadata": {},
   "outputs": [
    {
     "name": "stdout",
     "output_type": "stream",
     "text": [
      "[3872, 3552, 3552, 3442]\n"
     ]
    },
    {
     "data": {
      "image/png": "[encoded data removed]",
      "text/plain": [
       "<Figure size 432x288 with 1 Axes>"
      ]
     },
     "metadata": {
      "needs_background": "light"
     },
     "output_type": "display_data"
    }
   ],
   "source": [
    "# Plot du minimum de l'objectif parmis les solutions générées so far\n",
    "\n",
    "print(list_min_obj_global_BDT)\n",
    "plt.plot([i for i in range(it)], list_min_obj_global_BDT, label='min obj', marker='o')\n",
    "plt.xlabel(\"Iteration\")\n",
    "plt.ylabel(\"makespan\")\n",
    "plt.title(\"Evolution of the best makespan so far\")\n",
    "plt.xticks(range(it))\n",
    "plt.legend()\n",
    "plt.show() "
   ]
  },
  {
   "cell_type": "markdown",
   "metadata": {},
   "source": [
    "----\n",
    "\n",
    "## Plots in the same frame"
   ]
  },
  {
   "cell_type": "code",
   "execution_count": 107,
   "metadata": {},
   "outputs": [
    {
     "data": {
      "image/png": "[encoded data removed]",
      "text/plain": [
       "<Figure size 720x504 with 1 Axes>"
      ]
     },
     "metadata": {
      "needs_background": "light"
     },
     "output_type": "display_data"
    }
   ],
   "source": [
    "plt.figure(figsize=(10,7))\n",
    "plt.plot([i for i in range(it)], list_min_obj_global_BDT, label='BDT', marker='o')\n",
    "plt.plot([i for i in range(it)], list_min_obj_global_clustering, label='Clustering', marker='o')\n",
    "\n",
    "plt.xlabel(\"Iteration\")\n",
    "plt.ylabel(\"Objective function\")\n",
    "plt.title(\"Evolution of the objective function for generate solutions\")\n",
    "plt.xticks(range(it))\n",
    "plt.legend()\n",
    "plt.show()\n",
    "\n"
   ]
  }
 ],
 "metadata": {
  "kernelspec": {
   "display_name": "base",
   "language": "python",
   "name": "python3"
  },
  "language_info": {
   "codemirror_mode": {
    "name": "ipython",
    "version": 3
   },
   "file_extension": ".py",
   "mimetype": "text/x-python",
   "name": "python",
   "nbconvert_exporter": "python",
   "pygments_lexer": "ipython3",
   "version": "3.8.10"
  },
  "orig_nbformat": 4
 },
 "nbformat": 4,
 "nbformat_minor": 2
}
