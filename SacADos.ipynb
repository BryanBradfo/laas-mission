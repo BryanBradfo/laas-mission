{
 "cells": [
  {
   "attachments": {},
   "cell_type": "markdown",
   "metadata": {},
   "source": [
    "# SAC A DOS"
   ]
  },
  {
   "cell_type": "code",
   "execution_count": 1,
   "metadata": {},
   "outputs": [],
   "source": [
    "###############################################\n",
    "### SAC A DOS#####\n",
    "###############################################\n",
    "\n",
    "# Make sure that you update the variable os.environ['PATH'] in the config/__init__.py file\n",
    "from config import setup\n",
    "setup()\n",
    "from docplex.cp.model import *\n",
    "from docplex.cp.config import get_default\n",
    "import numpy as np\n",
    "\n",
    "# Modélise moi le problème du sac à dos\n",
    "\n",
    "\n",
    "mdl="
   ]
  }
 ],
 "metadata": {
  "kernelspec": {
   "display_name": "Python 3",
   "language": "python",
   "name": "python3"
  },
  "language_info": {
   "codemirror_mode": {
    "name": "ipython",
    "version": 3
   },
   "file_extension": ".py",
   "mimetype": "text/x-python",
   "name": "python",
   "nbconvert_exporter": "python",
   "pygments_lexer": "ipython3",
   "version": "3.8.10"
  },
  "orig_nbformat": 4
 },
 "nbformat": 4,
 "nbformat_minor": 2
}
