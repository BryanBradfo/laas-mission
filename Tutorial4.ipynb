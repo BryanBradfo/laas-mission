{
 "cells": [
  {
   "attachments": {},
   "cell_type": "markdown",
   "metadata": {},
   "source": [
    "# Tutorial 4: Scheduling with CP: Some Basics "
   ]
  },
  {
   "attachments": {},
   "cell_type": "markdown",
   "metadata": {},
   "source": [
    "Today we discover a new family of problems, called scheduling. Scheduling problems are widely present in real life applications such as timetabelling, transportation, project management, and manufacturing. We consider a particular problem called the job shop scheduling problem.  In this problem, we are given a set of $n$ jobs: $J_1, J_2, \\ldots,  J_n$ and a set of $m$ machines $M_1, M_2, \\ldots,  M_m$. \n",
    "Each job $J_i$ is defined by a set of $m$ (non-preemptive) tasks_duration $T_{i,1} \\ldots T_{i,m}$. Every task $T_{i,k}$ is associated with a duration $p_{i,k}$ and is supposed to be scheduled on machine $M_k$. \n",
    "\n",
    "The problem has two sets of constraints: \n",
    "\n",
    " - Precedence constraints: Each job is associated with an order of tasks_duration to respect when scheduling the different tasks_duration.\n",
    " - Disjunctive constraints: Each machine can process only one task at a given time\n",
    "\n",
    "\n",
    "The standard optimisation version of this problem asks to minimize the makespan, i.e., the total scheduling time.\n"
   ]
  },
  {
   "attachments": {},
   "cell_type": "markdown",
   "metadata": {},
   "source": [
    "Constraint programming has been widely and successfully used to solve scheduling problems. Many global constraints have been proposed. CP solvers often offer a dedicated library for scheduling. \n",
    "Please have a look at the diffrent features proposed in docplex here http://ibmdecisionoptimization.github.io/docplex-doc/cp/docplex.cp.modeler.py.html?highlight=scheduling#scheduling-functions \n"
   ]
  },
  {
   "attachments": {},
   "cell_type": "markdown",
   "metadata": {},
   "source": [
    "In this tutorial, we will be using (only): \n",
    " - Interval variables for the different variables of the problem:  http://ibmdecisionoptimization.github.io/docplex-doc/cp/docplex.cp.expression.py.html?highlight=interval_var#docplex.cp.expression.interval_var\n",
    " \n",
    " - end_before_start constraints to model precedence constraints : http://ibmdecisionoptimization.github.io/docplex-doc/cp/docplex.cp.modeler.py.html?highlight=end_before_start#docplex.cp.modeler.end_before_start\n",
    "\n",
    "- no_overlap global constraint : http://ibmdecisionoptimization.github.io/docplex-doc/cp/docplex.cp.modeler.py.html?highlight=no_overlap#docplex.cp.modeler.no_overlap\n"
   ]
  },
  {
   "attachments": {},
   "cell_type": "markdown",
   "metadata": {},
   "source": [
    "The format for a job shop scheduling instance respects the following syntax: \n",
    "- The first line containts only $n$ $m$ in this order  ($n$ is the number of jobs and $m$ is the number of machines)\n",
    "- Then $n$ lines are given. Each line $i$ is associated to the job $J_i$ and contains exactly $2 m$ integers $x^i_1$ $d^i_1$ $x^i_2$ $d^i_2$ $\\ldots$ $x^i_n$ $d^i_n$. Each $x^i_k$ is the $k^{th}$ machine required by the $k^{th}$ task of the job $J_i$, and $d^i_k$ represents its duration. "
   ]
  },
  {
   "attachments": {},
   "cell_type": "markdown",
   "metadata": {},
   "source": [
    "Consider for example the data file instance.data : \n",
    "    \n",
    " 6  6\n",
    "     \n",
    "2   1  0   3  1   6  3   7  5   3  4   6\n",
    "\n",
    "1   8  2   5  4  10  5  10  0  10  3   4\n",
    "\n",
    "2   5  3   4  5   8  0   9  1   1  4   7\n",
    " \n",
    " 1   5  0   5  2   5  3   3  4   8  5   9\n",
    " \n",
    " 2   9  1   3  4   5  5   4  0   3  3   1\n",
    " \n",
    " 1   3  3   3  5   9  0  10  4   4  2   1\n"
   ]
  },
  {
   "attachments": {},
   "cell_type": "markdown",
   "metadata": {},
   "source": [
    "This instance has $6$ jobs and $6$ machines. The first job requires the execution of task $T_{1,2}$ (on machine $2$) of duration $1$, \n",
    "then $T_{1,0}$ (on machine $0$) of duration $3$, etc. "
   ]
  },
  {
   "attachments": {},
   "cell_type": "markdown",
   "metadata": {},
   "source": [
    "Write a simple python code to parse the data file instance.data"
   ]
  },
  {
   "cell_type": "code",
   "execution_count": 32,
   "metadata": {},
   "outputs": [
    {
     "name": "stdout",
     "output_type": "stream",
     "text": [
      "[6, 6, 2, 1, 0, 3, 1, 6, 3, 7, 5, 3, 4, 6, 1, 8, 2, 5, 4, 10, 5, 10, 0, 10, 3, 4, 2, 5, 3, 4, 5, 8, 0, 9, 1, 1, 4, 7, 1, 5, 0, 5, 2, 5, 3, 3, 4, 8, 5, 9, 2, 9, 1, 3, 4, 5, 5, 4, 0, 3, 3, 1, 1, 3, 3, 3, 5, 9, 0, 10, 4, 4, 2, 1]\n"
     ]
    }
   ],
   "source": [
    "data = []\n",
    "\n",
    "# Open the data file\n",
    "with open(\"example.data\", \"r\") as file:\n",
    "    # Read the file line by line\n",
    "    for line in file:\n",
    "        # Strip any leading/trailing whitespace and split the line into individual values\n",
    "        values = line.strip().split()\n",
    "        \n",
    "        # Convert each value to an integer and append it to the data list\n",
    "        data.extend(map(int, values))\n",
    "\n",
    "# Print the parsed data\n",
    "print(data)\n"
   ]
  },
  {
   "cell_type": "code",
   "execution_count": 33,
   "metadata": {},
   "outputs": [
    {
     "name": "stdout",
     "output_type": "stream",
     "text": [
      "The number of jobs is :  6\n",
      "The number of machines is :  6\n",
      "[2, 1, 0, 3, 1, 6, 3, 7, 5, 3, 4, 6, 1, 8, 2, 5, 4, 10, 5, 10, 0, 10, 3, 4, 2, 5, 3, 4, 5, 8, 0, 9, 1, 1, 4, 7, 1, 5, 0, 5, 2, 5, 3, 3, 4, 8, 5, 9, 2, 9, 1, 3, 4, 5, 5, 4, 0, 3, 3, 1, 1, 3, 3, 3, 5, 9, 0, 10, 4, 4, 2, 1]\n"
     ]
    }
   ],
   "source": [
    "n, m = data[:2]\n",
    "print(\"The number of jobs is : \", n)\n",
    "print(\"The number of machines is : \", m)\n",
    "data_tasks_duration = data[2:]\n",
    "print(data_tasks_duration)\n"
   ]
  },
  {
   "attachments": {},
   "cell_type": "markdown",
   "metadata": {},
   "source": [
    "Create a matrix machine that satisfies: machine[i][k] is the machine of the $k^{th}$ task of job $i$ (one line)"
   ]
  },
  {
   "cell_type": "code",
   "execution_count": 34,
   "metadata": {},
   "outputs": [
    {
     "name": "stdout",
     "output_type": "stream",
     "text": [
      "[[2. 0. 1. 3. 5. 4.]\n",
      " [1. 2. 4. 5. 0. 3.]\n",
      " [2. 3. 5. 0. 1. 4.]\n",
      " [1. 0. 2. 3. 4. 5.]\n",
      " [2. 1. 4. 5. 0. 3.]\n",
      " [1. 3. 5. 0. 4. 2.]]\n"
     ]
    }
   ],
   "source": [
    "import numpy as np\n",
    "machine = np.zeros((n,m))\n",
    "# print(jobs)\n",
    "\n",
    "for i in range(n):\n",
    "    for j in range(0,m):\n",
    "        k = 2*j\n",
    "        machine[i,j] = data_tasks_duration[i*2*m+k]\n",
    "\n",
    "print(machine)"
   ]
  },
  {
   "attachments": {},
   "cell_type": "markdown",
   "metadata": {},
   "source": [
    "Create a matrix duration that satisfies: duration[i][k] is the duration of the $k^{th}$ task of job $i$ (one line)"
   ]
  },
  {
   "cell_type": "code",
   "execution_count": 35,
   "metadata": {},
   "outputs": [
    {
     "name": "stdout",
     "output_type": "stream",
     "text": [
      "[[ 1.  3.  6.  7.  3.  6.]\n",
      " [ 8.  5. 10. 10. 10.  4.]\n",
      " [ 5.  4.  8.  9.  1.  7.]\n",
      " [ 5.  5.  5.  3.  8.  9.]\n",
      " [ 9.  3.  5.  4.  3.  1.]\n",
      " [ 3.  3.  9. 10.  4.  1.]]\n"
     ]
    }
   ],
   "source": [
    "duration = np.zeros((n,m))\n",
    "# print(jobs)\n",
    "\n",
    "for i in range(n):\n",
    "    for j in range(0,m):\n",
    "        k = 2*j\n",
    "        duration[i,j] = data_tasks_duration[i*2*m+k+1]\n",
    "\n",
    "print(duration)"
   ]
  },
  {
   "cell_type": "code",
   "execution_count": 36,
   "metadata": {},
   "outputs": [
    {
     "name": "stdout",
     "output_type": "stream",
     "text": [
      "[[ 3.  6.  1.  7.  6.  3.]\n",
      " [10.  8.  5.  4. 10. 10.]\n",
      " [ 9.  1.  5.  4.  7.  8.]\n",
      " [ 5.  5.  5.  3.  8.  9.]\n",
      " [ 3.  3.  9.  1.  5.  4.]\n",
      " [10.  3.  1.  3.  4.  9.]]\n"
     ]
    }
   ],
   "source": [
    "duration2 = np.zeros((n,m))\n",
    "\n",
    "for i in range(n):\n",
    "    for j in range(m):\n",
    "        machine_index = int(machine[i, j])  # Indice de la machine pour la tâche (i, j)\n",
    "        duration2[i, machine_index] = duration[i, j]\n",
    "\n",
    "print(duration2)\n"
   ]
  },
  {
   "attachments": {},
   "cell_type": "markdown",
   "metadata": {},
   "source": [
    "Compute a naive upper bound for the makespan. Note: this upper bound will be used as an upper bound for every interval variable we create."
   ]
  },
  {
   "cell_type": "code",
   "execution_count": 37,
   "metadata": {},
   "outputs": [
    {
     "name": "stdout",
     "output_type": "stream",
     "text": [
      "Naive Upper Bound: 197.0\n"
     ]
    }
   ],
   "source": [
    "# Compute the naive upper bound (maximum sum of durations across all jobs)\n",
    "naive_upper_bound = np.sum(duration)\n",
    "# Print the naive upper bound\n",
    "print(\"Naive Upper Bound:\", naive_upper_bound)"
   ]
  },
  {
   "attachments": {},
   "cell_type": "markdown",
   "metadata": {},
   "source": [
    "Create a CpoModel() and the different interval variables you need to solve this problem (don't forget to use the upper bound you computed earlier)"
   ]
  },
  {
   "cell_type": "code",
   "execution_count": 38,
   "metadata": {},
   "outputs": [],
   "source": [
    "from config import setup\n",
    "setup()\n",
    "\n",
    "## install docplex first with $pip install docplex\n",
    "from docplex.cp.model import *\n",
    "from docplex.cp.config import get_default"
   ]
  },
  {
   "cell_type": "code",
   "execution_count": 39,
   "metadata": {},
   "outputs": [],
   "source": [
    "#Create a CpoModel() \n",
    "mdl = CpoModel()\n",
    "\n",
    "# #Create task duration\n",
    "# tasks_duration = [[ None for i in range(n)] for j in range(m)]\n",
    "\n",
    "# for i in range(n): \n",
    "#     for j in range(m):\n",
    "#         tasks_duration[i][j] = mdl.interval_var(size=int(duration2[i][j]), name=\"T{}{}\".format(i,j)) \n",
    "        \n",
    "tasks_duration=[]\n",
    "for i in range(n): \n",
    "    tasks_duration.append([])\n",
    "    for j in range(m):\n",
    "        tasks_duration[i].append(mdl.interval_var(size=int(duration2[i][j]), name=\"T{}{}\".format(i,j)))\n",
    "        \n"
   ]
  },
  {
   "attachments": {},
   "cell_type": "markdown",
   "metadata": {},
   "source": [
    "Post the precedence constraints using the end_before_start constraints "
   ]
  },
  {
   "cell_type": "code",
   "execution_count": 40,
   "metadata": {},
   "outputs": [],
   "source": [
    "#Add end_before_start constraints\n",
    "\n",
    "# For each job\n",
    "for job_i in range(n):\n",
    "\n",
    "    # For each machine \n",
    "    for machine_i in range(1,m):\n",
    "        \n",
    "        # Effectuer les tasks dans l'ordre des machines dans job\n",
    "        mdl.add(end_before_start(tasks_duration[job_i][int(machine[job_i][machine_i-1])], tasks_duration[job_i][int(machine[job_i][machine_i])]))\n"
   ]
  },
  {
   "attachments": {},
   "cell_type": "markdown",
   "metadata": {},
   "source": [
    "Post the disjunctive constraints using the no-overlap constraints "
   ]
  },
  {
   "cell_type": "code",
   "execution_count": 41,
   "metadata": {},
   "outputs": [],
   "source": [
    "#Add no-overlap constraints\n",
    "\n",
    "#For each machine\n",
    "for machine_i in range(m):\n",
    "        # Plusieurs jobs ne peuvent pas être effectués en même temps sur la même machine\n",
    "        mdl.add(mdl.no_overlap([tasks_duration[job_i][machine_i] for job_i in range(n)]))"
   ]
  },
  {
   "attachments": {},
   "cell_type": "markdown",
   "metadata": {},
   "source": [
    "Create a makespan interval variable and link it to some variables using the max global constraint\n",
    "http://ibmdecisionoptimization.github.io/docplex-doc/cp/docplex.cp.modeler.py.html?highlight=max#docplex.cp.modeler.max"
   ]
  },
  {
   "cell_type": "code",
   "execution_count": 42,
   "metadata": {},
   "outputs": [],
   "source": [
    "#Create makespan interval variable\n",
    "makespan = max([end_of(tasks_duration[i][int(machine[i][m-1])]) for i in range(n)])\n",
    "#int(machine[i][m-1]) car task_duration, c'était ordonné\n",
    "#On cherche à minimiser la fin de la dernière tâche à l'aide d'une contrainte max globale"
   ]
  },
  {
   "attachments": {},
   "cell_type": "markdown",
   "metadata": {},
   "source": [
    "Add now the makespan as an objective function "
   ]
  },
  {
   "cell_type": "code",
   "execution_count": 43,
   "metadata": {},
   "outputs": [],
   "source": [
    "# mdl.add(mdl.minimize(makespan))"
   ]
  },
  {
   "attachments": {},
   "cell_type": "markdown",
   "metadata": {},
   "source": [
    "Solve this instance. What is the value of the makespan you found. You can print the solution in a format that is easy \n",
    "to see visually.  "
   ]
  },
  {
   "cell_type": "code",
   "execution_count": 48,
   "metadata": {},
   "outputs": [],
   "source": [
    "def get_k_first_sol(msol, k):\n",
    "    j=0\n",
    "    list_sol = []\n",
    "    for i in msol:\n",
    "        j += 1\n",
    "        if j < k:\n",
    "            list_sol.append(i.get_objective_values())\n",
    "            print(i.get_objective_values())\n",
    "\n",
    "    return list_sol"
   ]
  },
  {
   "cell_type": "code",
   "execution_count": 57,
   "metadata": {},
   "outputs": [
    {
     "name": "stdout",
     "output_type": "stream",
     "text": [
      " ! --------------------------------------------------- CP Optimizer 22.1.0.0 --\n",
      " ! Minimization problem - 42 variables, 36 constraints\n",
      " ! Presolve             = Off\n",
      " ! Workers              = 1\n",
      " ! SearchType           = DepthFirst\n",
      " ! Initial process time : 0.02s (0.02s extraction + 0.00s propagation)\n",
      " !  . Log search space  : 186.1 (before), 186.1 (after)\n",
      " !  . Memory usage      : 372.6 kB (before), 372.6 kB (after)\n",
      " ! Using sequential search.\n",
      " ! ----------------------------------------------------------------------------\n",
      " !          Best Branches  Non-fixed            Branch decision\n",
      "                        0         42                 -\n",
      " + New bound is 9\n",
      " *            60       36  0.02s               (gap is 85.00%)\n",
      "(60,)\n",
      " *            59       79  0.02s               (gap is 84.75%)\n",
      "(59,)\n",
      " *            58      125  0.02s               (gap is 84.48%)\n",
      "(58,)\n",
      " *            55      178  0.04s               (gap is 83.64%)\n",
      "(55,)\n",
      " ! ----------------------------------------------------------------------------\n",
      " ! Search completed, 4 solutions found.\n",
      " ! Best objective         : 55 (optimal - effective tol. is 0)\n",
      " ! Best bound             : 9\n",
      " ! ----------------------------------------------------------------------------\n",
      " ! Number of branches     : 232\n",
      " ! Number of fails        : 113\n",
      " ! Total memory usage     : 853.3 kB (798.7 kB CP Optimizer + 54.6 kB Concert)\n",
      " ! Time spent in solve    : 0.04s (0.02s engine + 0.02s extraction)\n",
      " ! Search speed (br. / s) : 11600.0\n",
      " ! ----------------------------------------------------------------------------\n",
      "[(60,), (59,), (58,), (55,)]\n"
     ]
    }
   ],
   "source": [
    "#Solve this instance\n",
    "# msol = mdl.solve(TimeLimit=10)\n",
    "msol = mdl.start_search(SearchType=\"DepthFirst\")\n",
    "\n",
    "j=0\n",
    "list_sol = []\n",
    "for i in msol:\n",
    "    j += 1\n",
    "    if j < k:\n",
    "        list_sol.append(i.get_objective_values())\n",
    "        # print(i.get_objective_values())\n",
    "\n",
    "# Print the objective value of the solution\n",
    "print(list_sol)\n",
    "# j=0\n",
    "# for i in msol:\n",
    "#     j += 1\n",
    "#     print(i.get_objective_values())\n",
    "# print(j)"
   ]
  },
  {
   "cell_type": "code",
   "execution_count": 45,
   "metadata": {},
   "outputs": [],
   "source": [
    "# #Print in a format that is easy to see visually\n",
    "\n",
    "# for i in range(m):\n",
    "#     print(\"Machine \", i, \": \", end=\"\")\n",
    "#     for j in range(n):\n",
    "#         print(\"Job \", j, \": \", msol.get_var_solution(tasks_duration[i][j]), \" \", end=\"\")\n",
    "#     print()\n"
   ]
  },
  {
   "attachments": {},
   "cell_type": "markdown",
   "metadata": {},
   "source": [
    "Factorise your code so that it takes as input the data file and it solves the problem. Try to use few other instances https://github.com/tamy0612/JSPLIB/tree/master/instances"
   ]
  },
  {
   "cell_type": "code",
   "execution_count": 46,
   "metadata": {},
   "outputs": [
    {
     "name": "stdout",
     "output_type": "stream",
     "text": [
      "The number of jobs is :  2\n",
      "The number of machines is :  2\n",
      "All jobs, where each task is succeeded by its duration is :  [1, 20, 0, 5, 0, 5, 1, 18]\n",
      "\n",
      " Just below, the matrix Machine such as machine[i][k] is the machine of the k_th task of job i \n",
      " [[1. 0.]\n",
      " [0. 1.]]\n",
      "\n",
      " Just below, the matrix Duration such as duration[i][k] is the duration of the k_th task of job i \n",
      " [[20.  5.]\n",
      " [ 5. 18.]]\n",
      "\n",
      " Just below, the matrix Duration such as duration[i][k] is the duration of the k_th task of job i \n",
      " [[ 5. 20.]\n",
      " [ 5. 18.]]\n",
      "\n",
      " A Naive Upper Bound: would be :  48.0\n",
      " ! --------------------------------------------------- CP Optimizer 22.1.0.0 --\n",
      " ! Minimization problem - 6 variables, 4 constraints\n",
      " ! Presolve             = Off\n",
      " ! Workers              = 1\n",
      " ! SearchType           = DepthFirst\n",
      " ! Initial process time : 0.55s (0.55s extraction + 0.00s propagation)\n",
      " !  . Log search space  : 8.0 (before), 8.0 (after)\n",
      " !  . Memory usage      : 302.3 kB (before), 302.3 kB (after)\n",
      " ! Using sequential search.\n",
      " ! ----------------------------------------------------------------------------\n",
      " !          Best Branches  Non-fixed            Branch decision\n",
      "                        0          6                 -\n",
      " + New bound is 18\n",
      " *            38        4  0.55s               (gap is 52.63%)\n",
      "(38,)\n",
      " ! ----------------------------------------------------------------------------\n",
      " ! Search completed, 1 solution found.\n",
      " ! Best objective         : 38 (optimal - effective tol. is 0)\n",
      " ! Best bound             : 18\n",
      " ! ----------------------------------------------------------------------------\n",
      " ! Number of branches     : 8\n",
      " ! Number of fails        : 4\n",
      " ! Total memory usage     : 647.2 kB (605.6 kB CP Optimizer + 41.6 kB Concert)\n",
      " ! Time spent in solve    : 0.55s (0.00s engine + 0.55s extraction)\n",
      " ! Search speed (br. / s) : 800.0\n",
      " ! ----------------------------------------------------------------------------\n",
      "Il y a 1 solution(s)\n"
     ]
    }
   ],
   "source": [
    "#Factorise the code so that it takes as input the data file and solves the problem\n",
    "import numpy as np\n",
    "from config import setup\n",
    "setup()\n",
    "\n",
    "# install docplex first with $pip install docplex\n",
    "from docplex.cp.model import *\n",
    "from docplex.cp.config import get_default\n",
    "\n",
    "\n",
    "def solve(f):\n",
    "    data = []\n",
    "    with open(f, \"r\") as file:\n",
    "        # Read the file line by line\n",
    "        for line in file:\n",
    "            # Strip any leading/trailing whitespace and split the line into individual values\n",
    "            values = line.strip().split()\n",
    "            \n",
    "            # Convert each value to an integer and append it to the data list\n",
    "            data.extend(map(int, values))\n",
    "\n",
    "    n, m = data[:2]\n",
    "    print(\"The number of jobs is : \", n)\n",
    "    print(\"The number of machines is : \", m)\n",
    "    data_tasks_duration = data[2:]\n",
    "    print(\"All jobs, where each task is succeeded by its duration is : \", data_tasks_duration)\n",
    "\n",
    "    machine = np.zeros((n,m))\n",
    "\n",
    "    for i in range(n):\n",
    "        for j in range(0,m):\n",
    "            k = 2*j\n",
    "            machine[i,j] = data_tasks_duration[i*2*m+k]\n",
    "\n",
    "    print(\"\\n Just below, the matrix Machine such as machine[i][k] is the machine of the k_th task of job i \\n\" , machine)\n",
    "\n",
    "    duration = np.zeros((n,m))\n",
    "\n",
    "    for i in range(n):\n",
    "        for j in range(0,m):\n",
    "            k = 2*j\n",
    "            duration[i,j] = data_tasks_duration[i*2*m+k+1]\n",
    "\n",
    "    print(\"\\n Just below, the matrix Duration such as duration[i][k] is the duration of the k_th task of job i \\n\", duration)\n",
    "\n",
    "    duration2 = np.zeros((n,m))\n",
    "\n",
    "    for i in range(n):\n",
    "        for j in range(m):\n",
    "            machine_index = int(machine[i, j])  # Indice de la machine pour la tâche (i, j)\n",
    "            duration2[i, machine_index] = duration[i, j]\n",
    "\n",
    "    print(\"\\n Just below, the matrix Duration such as duration[i][k] is the duration of the k_th task of job i \\n\",duration2)\n",
    "\n",
    "    # Compute the naive upper bound (maximum sum of durations across all jobs)\n",
    "    naive_upper_bound = np.sum(duration)\n",
    "    # Print the naive upper bound\n",
    "    print(\"\\n A Naive Upper Bound: would be : \", naive_upper_bound)\n",
    "\n",
    "    #Create a CpoModel() \n",
    "    mdl = CpoModel()\n",
    "\n",
    "    #Create task duration\n",
    "    tasks_duration = [[ None for i in range(n)] for j in range(m)]\n",
    "\n",
    "    for i in range(n): \n",
    "        for j in range(m):\n",
    "            tasks_duration[i][j] = mdl.interval_var(size=int(duration2[i][j]), name=\"T{}{}\".format(i,j)) \n",
    "\n",
    "\n",
    "    #Add end_before_start constraints\n",
    "\n",
    "    # For each job\n",
    "    for job_i in range(n):\n",
    "\n",
    "        # For each machine \n",
    "        for machine_i in range(1,m):\n",
    "            \n",
    "            mdl.add(end_before_start(tasks_duration[job_i][int(machine[job_i][machine_i-1])], tasks_duration[job_i][int(machine[job_i][machine_i])]))\n",
    "\n",
    "\n",
    "    #Add no-overlap constraints\n",
    "\n",
    "    #For each machine\n",
    "    for machine_i in range(m):\n",
    "        # Plusieurs jobs ne peuvent pas être effectués en même temps sur la même machine\n",
    "        mdl.add(mdl.no_overlap([tasks_duration[job_i][machine_i] for job_i in range(n)]))\n",
    "    \n",
    "    #Create makespan interval variable\n",
    "    makespan = max([end_of(tasks_duration[i][int(machine[i][m-1])]) for i in range(n)])\n",
    "\n",
    "\n",
    "    #On cherche à minimiser la fin de la dernière tâche à l'aide d'une contrainte max globale\n",
    "\n",
    "    mdl.add(mdl.minimize(makespan))\n",
    "\n",
    "    #Solve this instance\n",
    "    msol = mdl.start_search(SearchType=\"DepthFirst\")\n",
    "\n",
    "    j=0\n",
    "    for i in msol:\n",
    "        j += 1\n",
    "        print(i.get_objective_values())\n",
    "    print(\"Il y a {} solution(s)\".format(j))\n",
    "\n",
    "    #Print in a format that is easy to see visually\n",
    "\n",
    "    # for i in range(m):\n",
    "    #     print(\"Machine \", i, \": \", end=\"\")\n",
    "    #     for j in range(n):\n",
    "    #         print(\"Job \", j, \": \", msol.get_var_solution(tasks_duration[i][j]), \" \", end=\"\")\n",
    "    #     print()\n",
    "\n",
    "\n",
    "\n",
    "solve(\"example3.data\")"
   ]
  },
  {
   "attachments": {},
   "cell_type": "markdown",
   "metadata": {},
   "source": [
    "At this stage you are completly free to play. Try different instances, different configurations of the solver, different branching strategies, restarts, randomisation, etc. \n",
    "\n",
    "You may want to present your results as a cactus 🌵 plot : in the x-axis we have the runtime, on the y-axis, we have the number of instances solved. Also, some instances are still open in the literature. Have a look here for an up to date list of bounds http://optimizizer.com/TA.php"
   ]
  },
  {
   "attachments": {},
   "cell_type": "markdown",
   "metadata": {},
   "source": [
    "What did you learn loday? "
   ]
  },
  {
   "cell_type": "raw",
   "metadata": {},
   "source": [
    "We learnt how to resolve scheduling problem with CSP, by considering the two following global constraints : the end_before_start and no_overlap.\n",
    "\n",
    "We also use interval_var, that is essential for scheduling problem."
   ]
  }
 ],
 "metadata": {
  "kernelspec": {
   "display_name": "Python 3 (ipykernel)",
   "language": "python",
   "name": "python3"
  },
  "language_info": {
   "codemirror_mode": {
    "name": "ipython",
    "version": 3
   },
   "file_extension": ".py",
   "mimetype": "text/x-python",
   "name": "python",
   "nbconvert_exporter": "python",
   "pygments_lexer": "ipython3",
   "version": "3.8.10"
  },
  "latex_envs": {
   "LaTeX_envs_menu_present": true,
   "autoclose": false,
   "autocomplete": true,
   "bibliofile": "biblio.bib",
   "cite_by": "apalike",
   "current_citInitial": 1,
   "eqLabelWithNumbers": true,
   "eqNumInitial": 1,
   "hotkeys": {
    "equation": "Ctrl-E",
    "itemize": "Ctrl-I"
   },
   "labels_anchors": false,
   "latex_user_defs": false,
   "report_style_numbering": false,
   "user_envs_cfg": false
  }
 },
 "nbformat": 4,
 "nbformat_minor": 2
}
